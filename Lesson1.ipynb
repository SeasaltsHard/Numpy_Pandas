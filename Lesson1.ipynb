{
 "cells": [
  {
   "cell_type": "code",
   "execution_count": 1,
   "id": "38ed6811",
   "metadata": {},
   "outputs": [],
   "source": [
    "import numpy as np"
   ]
  },
  {
   "cell_type": "code",
   "execution_count": 14,
   "id": "663f5ff2",
   "metadata": {},
   "outputs": [],
   "source": [
    "a = np.array([[1, 6],\n",
    "              [2, 8],\n",
    "              [3, 11],\n",
    "              [3, 10],\n",
    "              [1, 7]])"
   ]
  },
  {
   "cell_type": "code",
   "execution_count": 15,
   "id": "89c41da9",
   "metadata": {},
   "outputs": [],
   "source": [
    "mean_a = a.mean(axis = 0)"
   ]
  },
  {
   "cell_type": "code",
   "execution_count": 16,
   "id": "fd3de9c6",
   "metadata": {},
   "outputs": [],
   "source": [
    "a_centered=np.subtract(a, mean_a)"
   ]
  },
  {
   "cell_type": "code",
   "execution_count": 17,
   "id": "6fda01d0",
   "metadata": {},
   "outputs": [],
   "source": [
    "a1=a_centered[:,0]\n",
    "\n",
    "a2=a_centered[:,1]\n",
    "\n",
    "a_centered_sp=np.dot(a1,a2)"
   ]
  },
  {
   "cell_type": "code",
   "execution_count": 18,
   "id": "c7c5b7d9",
   "metadata": {},
   "outputs": [],
   "source": [
    "N=a.shape[0]\n",
    "\n",
    "my_cov=a_centered_sp/(N-1)"
   ]
  },
  {
   "cell_type": "code",
   "execution_count": 19,
   "id": "8278a6f1",
   "metadata": {},
   "outputs": [
    {
     "data": {
      "text/plain": [
       "array([[1. , 2. ],\n",
       "       [2. , 4.3]])"
      ]
     },
     "execution_count": 19,
     "metadata": {},
     "output_type": "execute_result"
    }
   ],
   "source": [
    "np.cov(a.transpose())"
   ]
  }
 ],
 "metadata": {
  "kernelspec": {
   "display_name": "Python 3 (ipykernel)",
   "language": "python",
   "name": "python3"
  },
  "language_info": {
   "codemirror_mode": {
    "name": "ipython",
    "version": 3
   },
   "file_extension": ".py",
   "mimetype": "text/x-python",
   "name": "python",
   "nbconvert_exporter": "python",
   "pygments_lexer": "ipython3",
   "version": "3.9.5"
  }
 },
 "nbformat": 4,
 "nbformat_minor": 5
}
